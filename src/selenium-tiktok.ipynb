{
 "cells": [
  {
   "cell_type": "code",
   "metadata": {
    "collapsed": true,
    "pycharm": {
     "name": "#%%\n"
    }
   },
   "source": [
    "import time\n",
    "\n",
    "from selenium import webdriver\n",
    "from selenium.webdriver.chrome.options import Options\n",
    "from selenium.webdriver.common.keys import Keys\n",
    "from IPython import display\n",
    "from TikTokApi import TikTokApi\n",
    "import watch_tiktok\n",
    "import process_tiktok"
   ],
   "execution_count": 1,
   "outputs": []
  },
  {
   "cell_type": "markdown",
   "source": [
    "# Set up driver to connect to selenium grid"
   ],
   "metadata": {
    "collapsed": false,
    "pycharm": {
     "name": "#%% md\n"
    }
   }
  },
  {
   "cell_type": "code",
   "execution_count": 2,
   "outputs": [
    {
     "name": "stdout",
     "output_type": "stream",
     "text": [
      "Spwaning 1 drivers for TikTok...\n",
      "\tSpawning driver 0\n",
      "Done...\n"
     ]
    }
   ],
   "source": [
    "chromeOptions: Options = Options()\n",
    "chromeOptions.set_capability(\"browserName\", \"chrome\")\n",
    "chromeOptions.set_capability(\"javascriptEnabled\", True)\n",
    "chromeOptions.add_argument(\"start-maximized\")\n",
    "\n",
    "# Chrome is controlled by automated test software\n",
    "chromeOptions.add_experimental_option(\"excludeSwitches\", [\"enable-automation\"])\n",
    "chromeOptions.add_experimental_option('useAutomationExtension', False)\n",
    "\n",
    "# avoiding detection\n",
    "chromeOptions.add_argument('--disable-blink-features=AutomationControlled')\n",
    "\n",
    "no_drivers = 1#4\n",
    "\n",
    "print(\"Spwaning %d drivers for TikTok...\" % no_drivers)\n",
    "drivers = []\n",
    "for i in range(no_drivers):\n",
    "   print(\"\\tSpawning driver %d\" % i)\n",
    "   drivers.append(webdriver.Remote(\n",
    "      command_executor='http://127.0.0.1:4444/wd/hub',\n",
    "      options=chromeOptions))\n",
    "print(\"Done...\")\n"
   ],
   "metadata": {
    "collapsed": false,
    "pycharm": {
     "name": "#%%\n"
    }
   }
  },
  {
   "cell_type": "markdown",
   "source": [],
   "metadata": {
    "collapsed": false
   }
  },
  {
   "cell_type": "markdown",
   "source": [
    "## Login to TikTok"
   ],
   "metadata": {
    "collapsed": false
   }
  },
  {
   "cell_type": "code",
   "execution_count": null,
   "outputs": [],
   "source": [
    "html = \"\"\n",
    "for driver in drivers:\n",
    "   driver.get('https://www.tiktok.com/login/qrcode')\n",
    "   time.sleep(2)\n",
    "   qr = driver.get_screenshot_as_base64()\n",
    "   html = html + f'<img src=\"data:image/png;base64,{qr}\" /><br/>'\n",
    "print(\"Please login using the QR codes below\")\n",
    "display.HTML(html)"
   ],
   "metadata": {
    "collapsed": false,
    "pycharm": {
     "name": "#%%\n"
    }
   }
  },
  {
   "cell_type": "code",
   "execution_count": null,
   "outputs": [
    {
     "name": "stdout",
     "output_type": "stream",
     "text": [
      "Loaded https://www.tiktok.com/@shaunwhite/video/7063252705560546606?is_copy_url=1&is_from_webapp=v1\n",
      "19.201\n",
      "Next...\n",
      "Loaded https://www.tiktok.com/foryou?is_copy_url=1&is_from_webapp=v1&item_id=7053269987284258095#/@amberdee39/video/7053269987284258095\n",
      "77.784\n",
      "Next...\n",
      "Loaded https://www.tiktok.com/foryou?is_copy_url=1&is_from_webapp=v1&item_id=7062825532102135087#/@kaylamalecc/video/7062825532102135087\n",
      "121.786\n"
     ]
    }
   ],
   "source": [
    "curr_driver = drivers[0]\n",
    "s_v_web_id = \"verify_c1470728e338f0cdea062062bad25303\"\n",
    "TikTokApi.__instance = None\n",
    "urls = watch_tiktok.watch_and_continue('https://www.tiktok.com/@shaunwhite/video/7063252705560546606?is_copy_url=1&is_from_webapp=v1', curr_driver, 20, 0)\n",
    "print(urls)\n",
    "\n"
   ],
   "metadata": {
    "collapsed": false,
    "pycharm": {
     "name": "#%%\n",
     "is_executing": true
    }
   }
  },
  {
   "cell_type": "markdown",
   "source": [],
   "metadata": {
    "collapsed": false
   }
  },
  {
   "cell_type": "markdown",
   "source": [
    "## Close drivers"
   ],
   "metadata": {
    "collapsed": false
   }
  },
  {
   "cell_type": "code",
   "execution_count": null,
   "outputs": [],
   "source": [
    "for driver in drivers:\n",
    "   driver.quit()"
   ],
   "metadata": {
    "collapsed": false,
    "pycharm": {
     "name": "#%%\n"
    }
   }
  },
  {
   "cell_type": "code",
   "execution_count": null,
   "outputs": [],
   "source": [],
   "metadata": {
    "collapsed": false,
    "pycharm": {
     "name": "#%%\n"
    }
   }
  }
 ],
 "metadata": {
  "kernelspec": {
   "display_name": "Python 3",
   "language": "python",
   "name": "python3"
  },
  "language_info": {
   "codemirror_mode": {
    "name": "ipython",
    "version": 2
   },
   "file_extension": ".py",
   "mimetype": "text/x-python",
   "name": "python",
   "nbconvert_exporter": "python",
   "pygments_lexer": "ipython2",
   "version": "2.7.6"
  }
 },
 "nbformat": 4,
 "nbformat_minor": 0
}